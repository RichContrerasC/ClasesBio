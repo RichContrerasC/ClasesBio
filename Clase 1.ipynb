{
 "cells": [
  {
   "cell_type": "markdown",
   "metadata": {},
   "source": [
    "# Esto sirve para escribir GRANDE\n",
    "\n",
    "Sin \"gato\" escribimos en pequeño\n"
   ]
  },
  {
   "cell_type": "markdown",
   "metadata": {},
   "source": [
    "# Empezando a programar\n",
    "Esta es la primera clase"
   ]
  },
  {
   "cell_type": "code",
   "execution_count": 4,
   "metadata": {
    "collapsed": false
   },
   "outputs": [],
   "source": [
    "#from pylab import *\n",
    "#%matplotlib inline"
   ]
  },
  {
   "cell_type": "markdown",
   "metadata": {},
   "source": [
    "# Integer, Float y Double"
   ]
  },
  {
   "cell_type": "code",
   "execution_count": 8,
   "metadata": {
    "collapsed": true
   },
   "outputs": [],
   "source": [
    "#1 es Integer... te da operaciones con enteros.\n",
    "#1. es un Float... significa que cada numero puedes tomarlo \n",
    "#En el caso de python3 reconoce a todos los numeros como floats"
   ]
  },
  {
   "cell_type": "code",
   "execution_count": 9,
   "metadata": {
    "collapsed": false
   },
   "outputs": [
    {
     "data": {
      "text/plain": [
       "0.5"
      ]
     },
     "execution_count": 9,
     "metadata": {},
     "output_type": "execute_result"
    }
   ],
   "source": [
    "1/2"
   ]
  },
  {
   "cell_type": "code",
   "execution_count": 11,
   "metadata": {
    "collapsed": false
   },
   "outputs": [],
   "source": [
    "#* es por y ** elevar"
   ]
  },
  {
   "cell_type": "code",
   "execution_count": 12,
   "metadata": {
    "collapsed": true
   },
   "outputs": [],
   "source": [
    "a=1\n",
    "b=2\n",
    "c=3"
   ]
  },
  {
   "cell_type": "code",
   "execution_count": 13,
   "metadata": {
    "collapsed": false
   },
   "outputs": [
    {
     "data": {
      "text/plain": [
       "3"
      ]
     },
     "execution_count": 13,
     "metadata": {},
     "output_type": "execute_result"
    }
   ],
   "source": [
    "a+b"
   ]
  },
  {
   "cell_type": "code",
   "execution_count": 14,
   "metadata": {
    "collapsed": false
   },
   "outputs": [
    {
     "data": {
      "text/plain": [
       "-2"
      ]
     },
     "execution_count": 14,
     "metadata": {},
     "output_type": "execute_result"
    }
   ],
   "source": [
    "a-c"
   ]
  },
  {
   "cell_type": "code",
   "execution_count": 15,
   "metadata": {
    "collapsed": false
   },
   "outputs": [
    {
     "ename": "NameError",
     "evalue": "name 'sqrt' is not defined",
     "output_type": "error",
     "traceback": [
      "\u001b[0;31m---------------------------------------------------------------------------\u001b[0m",
      "\u001b[0;31mNameError\u001b[0m                                 Traceback (most recent call last)",
      "\u001b[0;32m<ipython-input-15-7756160314b1>\u001b[0m in \u001b[0;36m<module>\u001b[0;34m()\u001b[0m\n\u001b[0;32m----> 1\u001b[0;31m \u001b[0msqrt\u001b[0m\u001b[0;34m(\u001b[0m\u001b[0mb\u001b[0m\u001b[0;34m)\u001b[0m\u001b[0;34m\u001b[0m\u001b[0m\n\u001b[0m",
      "\u001b[0;31mNameError\u001b[0m: name 'sqrt' is not defined"
     ]
    }
   ],
   "source": [
    "sqrt(b)"
   ]
  },
  {
   "cell_type": "markdown",
   "metadata": {},
   "source": [
    "# VECTORES"
   ]
  },
  {
   "cell_type": "code",
   "execution_count": 24,
   "metadata": {
    "collapsed": false
   },
   "outputs": [
    {
     "name": "stdout",
     "output_type": "stream",
     "text": [
      "2\n",
      "1.5\n",
      "la primera entrada es 1 la segunda entrada es 2\n"
     ]
    }
   ],
   "source": [
    "Vector1 = [1,2,3,4]\n",
    "print (Vector1[1])\n",
    "c = Vector1[2]/2\n",
    "print (c)\n",
    "\n",
    "print (\"la primera entrada es\", Vector1[0], \"la segunda entrada es\", Vector1[1])"
   ]
  },
  {
   "cell_type": "code",
   "execution_count": 25,
   "metadata": {
    "collapsed": false
   },
   "outputs": [
    {
     "name": "stdout",
     "output_type": "stream",
     "text": [
      "[1, 2, 3, 4]\n"
     ]
    }
   ],
   "source": [
    "print (Vector1)"
   ]
  },
  {
   "cell_type": "code",
   "execution_count": 26,
   "metadata": {
    "collapsed": false,
    "scrolled": true
   },
   "outputs": [
    {
     "ename": "NameError",
     "evalue": "name 'array' is not defined",
     "output_type": "error",
     "traceback": [
      "\u001b[0;31m---------------------------------------------------------------------------\u001b[0m",
      "\u001b[0;31mNameError\u001b[0m                                 Traceback (most recent call last)",
      "\u001b[0;32m<ipython-input-26-9191eea1e6b0>\u001b[0m in \u001b[0;36m<module>\u001b[0;34m()\u001b[0m\n\u001b[0;32m----> 1\u001b[0;31m \u001b[0marray\u001b[0m\u001b[0;34m(\u001b[0m\u001b[0;34m[\u001b[0m\u001b[0;36m1\u001b[0m\u001b[0;34m,\u001b[0m\u001b[0;36m2\u001b[0m\u001b[0;34m,\u001b[0m\u001b[0;36m3\u001b[0m\u001b[0;34m,\u001b[0m\u001b[0;36m4\u001b[0m\u001b[0;34m]\u001b[0m\u001b[0;34m)\u001b[0m\u001b[0;34m\u001b[0m\u001b[0m\n\u001b[0m",
      "\u001b[0;31mNameError\u001b[0m: name 'array' is not defined"
     ]
    }
   ],
   "source": [
    "array([1,2,3,4])"
   ]
  },
  {
   "cell_type": "code",
   "execution_count": 27,
   "metadata": {
    "collapsed": true
   },
   "outputs": [],
   "source": [
    "a = [\"Hola\", [1,2,3], 507, 0.3] #La lista debe estar en corchetes."
   ]
  },
  {
   "cell_type": "code",
   "execution_count": 28,
   "metadata": {
    "collapsed": false
   },
   "outputs": [
    {
     "data": {
      "text/plain": [
       "'Hola'"
      ]
     },
     "execution_count": 28,
     "metadata": {},
     "output_type": "execute_result"
    }
   ],
   "source": [
    "a[0]"
   ]
  },
  {
   "cell_type": "code",
   "execution_count": 29,
   "metadata": {
    "collapsed": false
   },
   "outputs": [
    {
     "ename": "NameError",
     "evalue": "name 'zeros' is not defined",
     "output_type": "error",
     "traceback": [
      "\u001b[0;31m---------------------------------------------------------------------------\u001b[0m",
      "\u001b[0;31mNameError\u001b[0m                                 Traceback (most recent call last)",
      "\u001b[0;32m<ipython-input-29-aab8b111d59e>\u001b[0m in \u001b[0;36m<module>\u001b[0;34m()\u001b[0m\n\u001b[0;32m----> 1\u001b[0;31m \u001b[0mzeros\u001b[0m\u001b[0;34m(\u001b[0m\u001b[0;36m5\u001b[0m\u001b[0;34m)\u001b[0m\u001b[0;34m\u001b[0m\u001b[0m\n\u001b[0m",
      "\u001b[0;31mNameError\u001b[0m: name 'zeros' is not defined"
     ]
    }
   ],
   "source": [
    "zeros(5)"
   ]
  },
  {
   "cell_type": "code",
   "execution_count": null,
   "metadata": {
    "collapsed": true
   },
   "outputs": [],
   "source": [
    "from pylab import *\n",
    "%>>> %matplotlib inline\n",
    "  File \"<stdin>\", line 1\n",
    "    %matplotlib inline\n",
    "    ^\n",
    "SyntaxError: invalid syntax\n",
    ">>> import matplotlib\n",
    ">>> a=1\n",
    ">>> b=2\n",
    ">>> c=\n",
    "  File \"<stdin>\", line 1\n",
    "    c=\n",
    "     ^\n",
    "SyntaxError: invalid syntax\n",
    ">>> c=3\n",
    ">>> sqrt(b)\n",
    "1.4142135623730951\n",
    ">>> a+b\n",
    "3\n",
    ">>> 4**(0.5)\n",
    "2.0\n",
    ">>> #VECTORES\n",
    "... \n",
    ">>> Vector1 = (1,2,3,4)\n",
    ">>> Vector1 =[1,2,3,4]\n",
    ">>> print Vector1[1]\n",
    "2\n",
    ">>> array([1,2,3,4])\n",
    "array([1, 2, 3, 4])\n",
    ">>> a = [\"Hola\", [1,2,3], 507, 0.3]\n",
    ">>> a[0]\n",
    "'Hola'\n",
    ">>> \n",
    "KeyboardInterrupt\n",
    ">>> zeros(5)\n",
    "array([ 0.,  0.,  0.,  0.,  0.])\n",
    ">>> zeros(2,5)\n",
    "Traceback (most recent call last):\n",
    "  File \"<stdin>\", line 1, in <module>\n",
    "TypeError: data type not understood\n",
    ">>> zeros((2,5))\n",
    "array([[ 0.,  0.,  0.,  0.,  0.],\n",
    "       [ 0.,  0.,  0.,  0.,  0.]])\n",
    ">>> ones(3)\n",
    "array([ 1.,  1.,  1.])\n",
    ">>> ones(8)\n",
    "array([ 1.,  1.,  1.,  1.,  1.,  1.,  1.,  1.])\n",
    ">>> vector2 = ones(8)\n",
    ">>> vector2[5] = 7\n",
    ">>> print vector2\n",
    "[ 1.  1.  1.  1.  1.  7.  1.  1.]\n",
    ">>> vector2[5:7] = 7\n",
    ">>> print vector2\n",
    "[ 1.  1.  1.  1.  1.  7.  7.  1.]\n",
    ">>> vector2[:5-1] =7\n",
    ">>> \n",
    ">>> print vector2\n",
    "[ 7.  7.  7.  7.  1.  7.  7.  1.]\n",
    ">>> vector2[0:5-1] = [11,12,13,14]\n",
    ">>> print vector2\n",
    "[ 11.  12.  13.  14.   1.   7.   7.   1.]\n",
    ">>> vector3 = [1,2,3,4,5,6]\n",
    ">>> vector3[2:4] = [11,12]\n",
    ">>> print vector3\n",
    "[1, 2, 11, 12, 5, 6]\n",
    ">>> matriz1 = [[1,2,3],[4,5,6],[7,8,9][\n",
    "... \n",
    "... \n",
    "... matriz1 = [[1,2,3],[4,5,6],[7,8,9]]\n",
    "  File \"<stdin>\", line 4\n",
    "    matriz1 = [[1,2,3],[4,5,6],[7,8,9]]\n",
    "            ^\n",
    "SyntaxError: invalid syntax\n",
    ">>> matriz1 = [[1,2,3],[4,5,6],[7,8,9]]\n",
    ">>> print matriz1[0]\n",
    "[1, 2, 3]\n",
    ">>> print matriz1[0][0]\n",
    "1\n",
    ">>> print matriz1[1][2]\n",
    "6\n",
    ">>> print matriz1[1,2]\n",
    "Traceback (most recent call last):\n",
    "  File \"<stdin>\", line 1, in <module>\n",
    "TypeError: list indices must be integers, not tuple\n",
    ">>> matriz2 = zeros((3,3))\n",
    ">>> print matriz2\n",
    "[[ 0.  0.  0.]\n",
    " [ 0.  0.  0.]\n",
    " [ 0.  0.  0.]]\n",
    ">>> matriz2[1,1]\n",
    "0.0\n",
    ">>> matriz[0]\n",
    "Traceback (most recent call last):\n",
    "  File \"<stdin>\", line 1, in <module>\n",
    "NameError: name 'matriz' is not defined\n",
    ">>> matriz2[0]\n",
    "array([ 0.,  0.,  0.])\n",
    ">>> matriz2[1,1] = 5\n",
    ">>> matriz2\n",
    "array([[ 0.,  0.,  0.],\n",
    "       [ 0.,  5.,  0.],\n",
    "       [ 0.,  0.,  0.]])\n"
   ]
  }
 ],
 "metadata": {
  "kernelspec": {
   "display_name": "Python 3",
   "language": "python",
   "name": "python3"
  },
  "language_info": {
   "codemirror_mode": {
    "name": "ipython",
    "version": 3
   },
   "file_extension": ".py",
   "mimetype": "text/x-python",
   "name": "python",
   "nbconvert_exporter": "python",
   "pygments_lexer": "ipython3",
   "version": "3.5.3"
  }
 },
 "nbformat": 4,
 "nbformat_minor": 2
}
